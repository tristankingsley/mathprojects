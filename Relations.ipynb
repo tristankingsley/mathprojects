{
 "cells": [
  {
   "cell_type": "markdown",
   "metadata": {},
   "source": [
    "<h1>Relations</h1>"
   ]
  },
  {
   "cell_type": "markdown",
   "metadata": {},
   "source": [
    "The purpose of this project is for you to write functions that determine the properties of a given relation.  In addition, given a transitive, directed graph you will construct its minimum equivalent digraph.\n",
    "\n",
    "The ONLY IMPORT ALLOWED is  \"copy\" and you are ONLY allowed to use the copy.deepcopy() method from this package.  All of your code should be 'from scracth.'  "
   ]
  },
  {
   "cell_type": "markdown",
   "metadata": {},
   "source": [
    "<h2>Objectives</h2>"
   ]
  },
  {
   "cell_type": "markdown",
   "metadata": {},
   "source": [
    "<h3>is_reflex</h3>"
   ]
  },
  {
   "cell_type": "markdown",
   "metadata": {},
   "source": [
    "You are to write a function <b>is_reflex(ground, relation)</b> that takes in two inputs: the first is the ground set, and the second is the relation.  It should then determine whether the given relation is reflexive.  In other words, return the Boolean value True if it is, and False if it is not."
   ]
  },
  {
   "cell_type": "code",
   "execution_count": null,
   "metadata": {
    "collapsed": false
   },
   "outputs": [],
   "source": [
    "def is_reflex(ground, relation):\n",
    "\n",
    "    for edge in relation:\n",
    "        if edge[0] == edge[1]:\n",
    "            if edge[0] in ground:\n",
    "                ground.remove(edge[0])\n",
    "\n",
    "    return len(ground) == 0    "
   ]
  },
  {
   "cell_type": "markdown",
   "metadata": {},
   "source": [
    "After compiling the above cell, you should be able to compile the following cell and obtain the desired outputs."
   ]
  },
  {
   "cell_type": "code",
   "execution_count": 1,
   "metadata": {
    "collapsed": false
   },
   "outputs": [],
   "source": [
    "print(is_reflex([\"A\", \"B\", \"C\", \"D\", \"E\"], [[\"A\", \"A\"], [\"A\", \"D\"], [\"B\", \"C\"], [\"B\", \"D\"], [\"C\", \"E\"], [\"D\", \"A\"], [\"E\", \"E\"]]),\n",
    "      is_reflex([\"A\", \"B\", \"C\"], [[\"A\", \"A\"], [\"A\", \"B\"], [\"A\", \"C\"], [\"B\", \"B\"], [\"B\", \"A\"], [\"C\", \"C\"], [\"C\", \"A\"]]))"
   ]
  },
  {
   "cell_type": "markdown",
   "metadata": {},
   "source": [
    "This should return\n",
    "\n",
    "False   True "
   ]
  },
  {
   "cell_type": "markdown",
   "metadata": {},
   "source": [
    "<h3>is_sym</h3>"
   ]
  },
  {
   "cell_type": "markdown",
   "metadata": {},
   "source": [
    "You are to write a function <b>is_sym(ground, relation)</b> that takes in two inputs: the first is the ground set, and the second is the relation.  It should then determine whether the given relation is symmetric.  In other words, return the Boolean value True if it is, and False if it is not."
   ]
  },
  {
   "cell_type": "code",
   "execution_count": null,
   "metadata": {
    "collapsed": true
   },
   "outputs": [],
   "source": [
    "def is_sym(ground, relation):\n",
    "    for edge in relation:\n",
    "        if edge[0] == edge[1]:\n",
    "            relation.remove(edge)\n",
    "\n",
    "    for edge in relation:\n",
    "        for symedge in relation:\n",
    "            if edge[1] == symedge[0] and edge[0] == symedge[1]:\n",
    "                relation.remove(edge)\n",
    "                relation.remove(symedge)\n",
    "\n",
    "    return len(relation) == 0"
   ]
  },
  {
   "cell_type": "markdown",
   "metadata": {},
   "source": [
    "After compiling the above cell, you should be able to compile the following cell and obtain the desired outputs."
   ]
  },
  {
   "cell_type": "code",
   "execution_count": null,
   "metadata": {
    "collapsed": false
   },
   "outputs": [],
   "source": [
    "print(is_sym([\"A\", \"B\", \"C\", \"D\", \"E\"], [[\"A\", \"A\"], [\"A\", \"D\"], [\"B\", \"C\"], [\"B\", \"D\"], [\"C\", \"E\"], [\"D\", \"A\"], [\"E\", \"E\"]]),\n",
    "      is_sym([\"A\", \"B\", \"C\"], [[\"A\", \"A\"], [\"A\", \"B\"], [\"A\", \"C\"], [\"B\", \"B\"], [\"B\", \"A\"], [\"C\", \"C\"], [\"C\", \"A\"]]))"
   ]
  },
  {
   "cell_type": "markdown",
   "metadata": {},
   "source": [
    "This should return \n",
    "\n",
    "False   True"
   ]
  },
  {
   "cell_type": "markdown",
   "metadata": {},
   "source": [
    "<h3>is_antisym</h3>"
   ]
  },
  {
   "cell_type": "markdown",
   "metadata": {},
   "source": [
    "You are to write a function <b>is_antisym(ground, relation)</b> that takes in two inputs: the first is the ground set, and the second is the relation.  It should then determine whether the given relation is antisymmetric.  In other words, return the Boolean value True if it is, and False if it is not."
   ]
  },
  {
   "cell_type": "code",
   "execution_count": null,
   "metadata": {
    "collapsed": true
   },
   "outputs": [],
   "source": [
    "def is_antisym(ground, relation):\n",
    "    for edge in relation:\n",
    "        for symedge in relation:\n",
    "            if edge[1] == symedge[0] and edge[0] == symedge[1] and edge[1] != edge[0]:\n",
    "                return False\n",
    "\n",
    "\n",
    "    return True"
   ]
  },
  {
   "cell_type": "markdown",
   "metadata": {},
   "source": [
    "After compiling the above cell, you should be able to compile the following cell and obtain the desired outputs."
   ]
  },
  {
   "cell_type": "code",
   "execution_count": null,
   "metadata": {
    "collapsed": false
   },
   "outputs": [],
   "source": [
    "print(is_antisym([\"A\", \"B\", \"C\", \"D\", \"E\"], [[\"A\", \"A\"], [\"A\", \"D\"], [\"B\", \"C\"], [\"B\", \"D\"], [\"C\", \"E\"], [\"D\", \"A\"], [\"E\", \"E\"]]),\n",
    "      is_antisym([\"A\", \"B\", \"C\", \"D\"], [[\"A\", \"A\"], [\"A\", \"B\"], [\"A\", \"C\"], [\"A\", \"D\"] [\"B\", \"D\"], [\"C\",\"D\"], [\"C\", \"C\"]]))"
   ]
  },
  {
   "cell_type": "markdown",
   "metadata": {},
   "source": [
    "This should return\n",
    "\n",
    "False    True"
   ]
  },
  {
   "cell_type": "markdown",
   "metadata": {},
   "source": [
    "<h3>is_trans</h3>"
   ]
  },
  {
   "cell_type": "markdown",
   "metadata": {},
   "source": [
    "You are to write a function <b>is_trans(ground, relation)</b> that takes in two inputs: the first is the ground set, and the second is the relation.  It should then determine whether the given relation is transitive.  In other words, return the Boolean value True if it is, and False if it is not."
   ]
  },
  {
   "cell_type": "code",
   "execution_count": null,
   "metadata": {
    "collapsed": true
   },
   "outputs": [],
   "source": [
    "def is_trans(ground, relation):\n",
    "\n",
    "    expected = []\n",
    "\n",
    "    for edge1 in relation:\n",
    "        for edge2 in relation:\n",
    "            if edge1 != edge2:\n",
    "                if (edge1[1] == edge2[0] and edge1[0] != edge2[1]):\n",
    "                    expected.append(edge1[0])\n",
    "                    expected.append(edge2[1])\n",
    "\n",
    "                    if expected in relation:\n",
    "                        expected = []\n",
    "                    else:\n",
    "                        return False\n",
    "\n",
    "    return True"
   ]
  },
  {
   "cell_type": "markdown",
   "metadata": {},
   "source": [
    "After compiling the above cell, you should be able to compile the following cell and obtain the desired outputs."
   ]
  },
  {
   "cell_type": "code",
   "execution_count": null,
   "metadata": {
    "collapsed": false
   },
   "outputs": [],
   "source": [
    "print(is_trans([\"A\", \"B\", \"C\", \"D\", \"E\"], [[\"A\", \"A\"], [\"A\", \"D\"], [\"B\", \"C\"], [\"B\", \"D\"], [\"C\", \"E\"], [\"D\", \"A\"], [\"E\", \"E\"]]),\n",
    "      is_trans([\"A\", \"B\", \"C\", \"D\"], [[\"A\", \"A\"], [\"A\", \"B\"], [\"A\", \"C\"], [\"A\", \"D\"], [\"B\", \"D\"], [\"C\",\"D\"], [\"C\", \"C\"]]))"
   ]
  },
  {
   "cell_type": "markdown",
   "metadata": {},
   "source": [
    "This should return\n",
    "\n",
    "False    True"
   ]
  },
  {
   "cell_type": "markdown",
   "metadata": {},
   "source": [
    "<h3>min_eq</h3>"
   ]
  },
  {
   "cell_type": "markdown",
   "metadata": {},
   "source": [
    "You are to write a function <b>min_eq(digraph)</b>  that takes in a transitive, directed graph as its input and returns the minimum equivalent digraph.  You may assume that there will be no loops or directed cycles."
   ]
  },
  {
   "cell_type": "code",
   "execution_count": null,
   "metadata": {
    "collapsed": true
   },
   "outputs": [],
   "source": [
    "def min_eq(digraph):\n",
    "\n",
    "    for vertex in digraph:\n",
    "        for vertex2 in digraph:\n",
    "            if vertex2 in digraph[vertex]:\n",
    "                for vertex3 in digraph[vertex2]:\n",
    "                    if vertex3 in digraph[vertex]:\n",
    "                        digraph[vertex].remove(vertex3)\n",
    "\n",
    "    return digraph"
   ]
  },
  {
   "cell_type": "markdown",
   "metadata": {},
   "source": [
    "After compiling the above cell, you should be able to compile the following cell and obtain the desired outputs."
   ]
  },
  {
   "cell_type": "code",
   "execution_count": null,
   "metadata": {
    "collapsed": false
   },
   "outputs": [],
   "source": [
    "print(min_eq({\"A\":[\"B\", \"C\", \"D\"], \"B\":[\"C\", \"D\"], \"C\":[\"D\"], \"D\":[]}),\n",
    "      min_eq({\"A\":[\"B\", \"C\"], \"B\":[\"A\"], \"C\":[\"A\"]}),\n",
    "      min_eq({\"A\":[\"B\", \"C\", \"D\"], \"B\":[], \"C\":[\"B\", \"D\"], \"D\":[]}))"
   ]
  },
  {
   "cell_type": "markdown",
   "metadata": {},
   "source": [
    "This should return\n",
    "\n",
    "{\"A\":[\"B\"], \"B\":[\"C\"], \"C\":[\"D\"], \"D\":[]}    \n",
    "\n",
    "{\"A\":[\"B\", \"C\"], \"B\":[\"A\"], \"C\":[\"A\"]}  \n",
    "\n",
    "{\"A\":[\"C\"], \"B\":[], \"C\":[\"B\", \"D\"], \"D\":[]}"
   ]
  },
  {
   "cell_type": "code",
   "execution_count": null,
   "metadata": {
    "collapsed": true
   },
   "outputs": [],
   "source": []
  }
 ],
 "metadata": {
  "anaconda-cloud": {},
  "kernelspec": {
   "display_name": "Python [default]",
   "language": "python",
   "name": "python3"
  },
  "language_info": {
   "codemirror_mode": {
    "name": "ipython",
    "version": 3
   },
   "file_extension": ".py",
   "mimetype": "text/x-python",
   "name": "python",
   "nbconvert_exporter": "python",
   "pygments_lexer": "ipython3",
   "version": "3.5.2"
  }
 },
 "nbformat": 4,
 "nbformat_minor": 1
}
